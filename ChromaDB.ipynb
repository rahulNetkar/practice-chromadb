{
 "cells": [
  {
   "cell_type": "code",
   "execution_count": null,
   "id": "b82da27d-9bc9-4f20-9af9-0547fc918340",
   "metadata": {},
   "outputs": [],
   "source": [
    "!pip install helper_utils"
   ]
  },
  {
   "cell_type": "code",
   "execution_count": 1,
   "id": "25d3fc3b-d8ca-41b8-a9ea-509e404b67aa",
   "metadata": {},
   "outputs": [],
   "source": [
    "import chromadb # helper functions from utilities\n",
    "from PyPDF2 import PdfReader # read the pdf files \n",
    "import os"
   ]
  },
  {
   "cell_type": "code",
   "execution_count": 2,
   "id": "99d890bb-5e25-4355-b475-58d059da4269",
   "metadata": {},
   "outputs": [],
   "source": [
    "reader = PdfReader(\"Report.pdf\")\n",
    "pdf_texts = [p.extract_text().strip() for p in reader.pages]\n",
    "\n",
    "# Filter the empty strings\n",
    "pdf_texts = [text for text in pdf_texts if text]"
   ]
  },
  {
   "cell_type": "code",
   "execution_count": 3,
   "id": "02b9f2f7-243e-47e2-8ee9-785557f0123d",
   "metadata": {},
   "outputs": [],
   "source": [
    "from langchain.text_splitter import RecursiveCharacterTextSplitter, SentenceTransformersTokenTextSplitter"
   ]
  },
  {
   "cell_type": "code",
   "execution_count": 4,
   "id": "dbe71301-651f-46fa-ad75-12ea0d873ba7",
   "metadata": {},
   "outputs": [],
   "source": [
    "text_splitter = RecursiveCharacterTextSplitter(chunk_size = 1000, chunk_overlap = 100)"
   ]
  },
  {
   "cell_type": "code",
   "execution_count": 5,
   "id": "877674f2-73f7-4c10-9099-ee339580d718",
   "metadata": {},
   "outputs": [],
   "source": [
    "split_text = text_splitter.split_text(' '.join(pdf_texts))\n"
   ]
  },
  {
   "cell_type": "code",
   "execution_count": null,
   "id": "ddc26028-0ffb-4080-a48c-2d0c582eb8d8",
   "metadata": {},
   "outputs": [],
   "source": [
    "split_text[3]"
   ]
  },
  {
   "cell_type": "code",
   "execution_count": 37,
   "id": "b6409501-8d7f-4f2e-b8bb-08a4ad46aa28",
   "metadata": {},
   "outputs": [],
   "source": [
    "token_splitter = SentenceTransformersTokenTextSplitter(chunk_overlap=0, tokens_per_chunk=384)\n",
    "\n",
    "tokens = []\n",
    "for text in split_text:\n",
    "    tokens += token_splitter.split_text(text)\n"
   ]
  },
  {
   "cell_type": "code",
   "execution_count": 38,
   "id": "779a2ffb-3392-426e-b652-86c24f9eb0d2",
   "metadata": {},
   "outputs": [
    {
     "data": {
      "text/plain": [
       "'infusing this technology across every layer of the tech stack. and, finally, we will continue to drive operating leverage, aligning our cost structur e with our revenue growth. as we make progress on these priorities, we delivered strong results in fiscal year 2023, including a record $ 211 billion in revenue and over $ 88 billion in operating income. a new era of ai there are two breakthroughs coming together to define this new era of ai. the first is the most universal interface : natural language. the long arc of computing has, in many ways, been shaped by the pursuit of increasingly intuitive human - computer interfaces — keyboards, mice, touch screens. we believe we have now arrived at the next big step forward — natural language — and will quickly go beyond, to see, hear, interpret, and make sense of our intent and the world around us. the second is the emergence of a powerful new reasoning engine. for y ears, we ’ ve digitized daily life, places, and things'"
      ]
     },
     "execution_count": 38,
     "metadata": {},
     "output_type": "execute_result"
    }
   ],
   "source": [
    "tokens[3]"
   ]
  },
  {
   "cell_type": "code",
   "execution_count": 7,
   "id": "622b89fc-1f47-4374-8922-a7027363ef1e",
   "metadata": {},
   "outputs": [],
   "source": [
    "\n",
    "from chromadb.utils.embedding_functions import SentenceTransformerEmbeddingFunction"
   ]
  },
  {
   "cell_type": "code",
   "execution_count": null,
   "id": "cae01fbc-11c3-4bfc-ba78-2fbbd1a55a87",
   "metadata": {},
   "outputs": [],
   "source": [
    "embedding_function = SentenceTransformerEmbeddingFunction()\n",
    "print(embedding_function([tokens[10]]))"
   ]
  },
  {
   "cell_type": "code",
   "execution_count": 9,
   "id": "0544d846-7424-4dd1-b173-9b0091cb7e42",
   "metadata": {},
   "outputs": [],
   "source": [
    "client = chromadb.PersistentClient(path=\"db\")"
   ]
  },
  {
   "cell_type": "code",
   "execution_count": 11,
   "id": "f628c404-a540-4c43-abbb-9c391d860309",
   "metadata": {},
   "outputs": [],
   "source": [
    "# Using Sentence Transformers Embeddings\n",
    "collection = client.get_or_create_collection(\"report-2023\", embedding_function=embedding_function)"
   ]
  },
  {
   "cell_type": "code",
   "execution_count": 20,
   "id": "e0e5f5d5-1a6b-4624-9188-d6e84248ccc7",
   "metadata": {},
   "outputs": [],
   "source": [
    "# Using Google GenerativeAI Embeddings\n",
    "from chromadb.utils.embedding_functions import GoogleGenerativeAiEmbeddingFunction\n",
    "google_embed = GoogleGenerativeAiEmbeddingFunction(api_key=api_key)\n",
    "\n",
    "collection2 = client.get_or_create_collection(\"report-2\", embedding_function=google_embed)"
   ]
  },
  {
   "cell_type": "code",
   "execution_count": 21,
   "id": "5e56c9ae-c30d-491e-b614-e92d92cd4c30",
   "metadata": {},
   "outputs": [
    {
     "data": {
      "text/plain": [
       "318"
      ]
     },
     "execution_count": 21,
     "metadata": {},
     "output_type": "execute_result"
    }
   ],
   "source": [
    "ids = [str(i) for i in range(len(tokens))]\n",
    "\n",
    "collection2.add(ids=ids, documents=tokens)\n",
    "collection2.count()"
   ]
  },
  {
   "cell_type": "code",
   "execution_count": 33,
   "id": "88636090-c201-4ed4-8bff-422ff345d23a",
   "metadata": {},
   "outputs": [
    {
     "name": "stdout",
     "output_type": "stream",
     "text": [
      "['each of these audits is not expected to be material to our consolidated financial statements. 68 note 13 — unearned revenue unearned revenue by segment was as follows : ( in millions ) june 30, 2023 2022 productivity and business processes $ 27, 572 $ 24, 558 intelligent cloud 21, 563 19, 371 more personal computing 4, 678 4, 479 total $ 53, 813 $ 48, 408 changes in unearned revenue were as follows : ( in millions ) year ended june 30, 2023 balance, beginning of period $ 48, 408 deferral of revenue 123, 935 recognition of unearned revenue ( 118, 530 ) balance, end of period $ 53, 813 revenue allocated to remaining performance obligations, which includes unearned revenue and amounts that will be invoiced and recognized as revenue in future periods, was $ 229 billion as of june 30, 2023, of which $ 224 billion is related', 'and are generally allocated based on relative gross margin. in addition, certain costs are incurred at a corporate level and allocated to our segments. these allocated costs generally include legal, including settlements and fines, information technology, human resources, finance, excise taxes, field selling, shared f acilities services, customer service and support, and severance incurred as part of a corporate program. each allocation is measured differently based on the specific facts and circumstances of the costs being allocated and is generall y based on relative g ross margin or relative headcount. segment revenue and operating income were as follows during the periods presented : ( in millions ) year ended june 30, 2023 2022 2021 revenue productivity and business processes $ 69, 274 $ 63, 364 $ 53, 915 intelligent cloud 87, 907 74, 965 59, 728 more personal computing 54, 734 59, 941 54, 445']\n"
     ]
    }
   ],
   "source": [
    "result = collection.query(\n",
    "    query_texts=[\"What is the total revenue\"],\n",
    "    n_results=2\n",
    ")\n",
    "\n",
    "print(result['documents'][0])"
   ]
  },
  {
   "cell_type": "code",
   "execution_count": 27,
   "id": "4249364f-22da-48f4-8eda-7eb6383dc488",
   "metadata": {},
   "outputs": [
    {
     "name": "stdout",
     "output_type": "stream",
     "text": [
      "income statements ( in millions, except per share amounts ) year ended june 30, 2023 2022 2021 revenue : product $ 64, 699 $ 72, 732 $ 71, 074 service and other 147, 216 125, 538 97, 014 total revenue 211, 915 198, 270 168, 088 cost of revenue : product 17, 804 19, 064 18, 219 service and other 48, 059 43, 586 34, 013 total cost of revenue 65, 863 62, 650 52, 232 gross margin 146, 052 135, 620 115, 856 research and development 27, 195 24, 512 20, 716 sales and marketing 22, 759 21, 825 20, 117 general and administrative 7, 575 5, 900 5, 107 operating income 88, 523 83, 383 69, 916 other income, net 788 333 1, 186 income before income taxes 89, 311 83, 716 71, 102 provision for income taxes 16, 950 10, 978 9, 831 net income $ 72, 361 $ 72, 738 $ 61, 271\n",
      "2023 : ( in millions ) 2024 thereafter total long - term debt : ( a ) principal payments $ 5, 250 $ 47, 616 $ 52, 866 interest payments 1, 379 19, 746 21, 125 construction commitments ( b ) 12, 237 1, 218 13, 455 operating and finance leases, including imputed interest ( c ) 5, 988 73, 852 79, 840 purchase commitments ( d ) 64, 703 3, 115 67, 818 total $ 89, 557 $ 145, 547 $ 235, 104 ( a ) refer to note 11 – debt of the notes to financial statements. ( b ) refer to note 7 – property and equipment of the notes to financial statements. ( c ) refer to note 14 – leases of the notes to financial statements. ( d ) purchase commitments primarily relate to datacenters and include open purchase orders and take - or - pay contracts that are not presented as construction commitments above. income taxes\n",
      "more personal computing 54, 734 59, 941 54, 445 total $ 211, 915 $ 198, 270 $ 168, 088 operating income productivity and business processes $ 34, 189 $ 29, 690 $ 24, 351 intelligent cloud 37, 884 33, 203 26, 471 more personal computing 16, 450 20, 490 19, 094 total $ 88, 523 $ 83, 383 $ 69, 916 no sales to an individual customer or country other than the united states accounted for more than 10 % of revenue for fiscal years 2023, 2022, or 2021. revenue, classified by the major geographic areas in which our customers were located, was as follows : ( in millions ) year ended june 30, 2023 2022 2021 united states ( a ) $ 106, 744 $ 100, 218 $ 83, 953 other countries 105, 171 98, 052 84, 135 total $ 211, 915 $ 198, 270 $ 168, 088\n",
      "interest on our debt for fiscal years 2023, 2022, and 2021 was $ 1. 7 billion, $ 1. 9 billion, and $ 2. 0 billion, respectively. the following table outlines maturities of our long - term debt, including the current portion, as of june 30, 2023 : ( in millions ) year ending june 30, 2024 $ 5, 250 2025 2, 250 2026 3, 000 2027 8, 000 2028 0 thereafter 34, 366 total $ 52, 866 note 12 — income taxes provision for income taxes the components of the provision for income taxes were as follows : ( in millions ) year ended june 30, 2023 2022 2021 current taxes u. s. federal $ 14, 009 $ 8, 329 $ 3, 285 u. s. state and local 2, 322 1, 679 1, 229 foreign 6, 678 6, 672 5, 467 current taxes $ 23, 009 $ 16, 680 $ 9, 981 deferred taxes u. s. federal $ ( 6, 146 ) $ ( 4, 815 ) $ 25\n"
     ]
    }
   ],
   "source": [
    "result = collection2.query(\n",
    "    query_texts=[\"What is the total revenue at the end of 2023\"],\n",
    "    n_results=4\n",
    ")\n",
    "\n",
    "print(\"\\n\".join(result['documents'][0]))"
   ]
  },
  {
   "cell_type": "code",
   "execution_count": null,
   "id": "9b614200-5ed1-4fa3-8687-aa8999ca500f",
   "metadata": {},
   "outputs": [],
   "source": [
    "messages = [\n",
    "    {\"role\": \"System\", }\n",
    "]"
   ]
  },
  {
   "cell_type": "code",
   "execution_count": null,
   "id": "9eca39fa-44fc-485f-8402-4687728ae01f",
   "metadata": {},
   "outputs": [],
   "source": []
  },
  {
   "cell_type": "code",
   "execution_count": null,
   "id": "d7be841f-b709-4e55-b6d3-4b537bc804ca",
   "metadata": {},
   "outputs": [],
   "source": []
  },
  {
   "cell_type": "code",
   "execution_count": null,
   "id": "69efcd6c-a0c6-4ff5-843b-b7ff233ffc6b",
   "metadata": {},
   "outputs": [],
   "source": []
  },
  {
   "cell_type": "code",
   "execution_count": null,
   "id": "a5fb6342-a2c9-4212-97ce-be26de5a235a",
   "metadata": {},
   "outputs": [],
   "source": []
  },
  {
   "cell_type": "code",
   "execution_count": null,
   "id": "83cbee5e-e202-47ba-a1ce-7bee7ede9b21",
   "metadata": {},
   "outputs": [],
   "source": []
  },
  {
   "cell_type": "code",
   "execution_count": null,
   "id": "c2d75fde-859a-4fa8-a3b0-985186b7171c",
   "metadata": {},
   "outputs": [],
   "source": []
  },
  {
   "cell_type": "code",
   "execution_count": null,
   "id": "121fd1a6-1881-4e01-aa08-31887d907067",
   "metadata": {},
   "outputs": [],
   "source": []
  },
  {
   "cell_type": "code",
   "execution_count": null,
   "id": "96f70325-2480-43ce-91ad-f0ad8e9a502e",
   "metadata": {},
   "outputs": [],
   "source": []
  },
  {
   "cell_type": "code",
   "execution_count": null,
   "id": "8db3ba27-8ea3-41f1-8278-0d0776f55622",
   "metadata": {},
   "outputs": [],
   "source": []
  },
  {
   "cell_type": "code",
   "execution_count": null,
   "id": "ba0cc83b-151b-4b47-942c-2bee359544e9",
   "metadata": {},
   "outputs": [],
   "source": []
  },
  {
   "cell_type": "code",
   "execution_count": null,
   "id": "28ee42ee-65cd-443e-891e-e9fabc622c19",
   "metadata": {},
   "outputs": [],
   "source": []
  },
  {
   "cell_type": "code",
   "execution_count": 12,
   "id": "bb5e906f-3b77-4fc7-b2b2-5ea3c0492864",
   "metadata": {},
   "outputs": [],
   "source": [
    "import google.generativeai as genai\n",
    "api_key = \"\"\n",
    "genai.configure(api_key=api_key)\n",
    "\n",
    "model = genai.GenerativeModel('gemini-pro')"
   ]
  },
  {
   "cell_type": "code",
   "execution_count": 39,
   "id": "dec2a6e3-f37f-4723-8b0d-db9560eeb62b",
   "metadata": {},
   "outputs": [
    {
     "name": "stdout",
     "output_type": "stream",
     "text": [
      "211,915\n"
     ]
    }
   ],
   "source": [
    "\n",
    "def rag(query: str):\n",
    "\n",
    "    retrieved_documents = collection2.query(\n",
    "        query_texts=query,\n",
    "        n_results=3\n",
    "    )\n",
    "    \n",
    "    information = \"\\n\\n\".join(retrieved_documents['documents'][0])\n",
    "\n",
    "\n",
    "    system_prompt = '''\n",
    "\n",
    "    You are a helpful expert financial research assistant. Your users are asking questions about information contained in an annual report.\n",
    "    You will be shown the user's question, and the relevant information from the annual report. Answer the user's question using only this information.\n",
    "    Otherwise say 'I do not know'.\n",
    "    \n",
    "    '''\n",
    "\n",
    "    user_prompt = f\"Question: {query}. \\n Information: {information}. \\n Answer:\"\n",
    "    \n",
    "    prompt = f'{system_prompt} \\n {user_prompt}'\n",
    "    \n",
    "    response = model.generate_content(f'{system_prompt} \\n {user_prompt}')\n",
    "    return response.text\n",
    "\n",
    "    # return prompt\n",
    "\n",
    "print(rag(\"What is the total revenue\"))"
   ]
  },
  {
   "cell_type": "code",
   "execution_count": null,
   "id": "1e9820c2-4f89-4a46-97ba-df1256477c95",
   "metadata": {},
   "outputs": [],
   "source": []
  },
  {
   "cell_type": "code",
   "execution_count": null,
   "id": "f6d7a27a-db57-4b74-89e6-8d6ebb70dd6c",
   "metadata": {},
   "outputs": [],
   "source": []
  },
  {
   "cell_type": "code",
   "execution_count": null,
   "id": "9344a393-59e5-4541-8a0a-2fdb2bf1bfe0",
   "metadata": {},
   "outputs": [],
   "source": []
  },
  {
   "cell_type": "code",
   "execution_count": null,
   "id": "b3df508c-f12c-4ccf-ab8a-b9ba1ad480d3",
   "metadata": {},
   "outputs": [],
   "source": []
  },
  {
   "cell_type": "code",
   "execution_count": null,
   "id": "100c1332-fffa-40de-9447-f83c788f8ce5",
   "metadata": {},
   "outputs": [],
   "source": []
  },
  {
   "cell_type": "code",
   "execution_count": null,
   "id": "94649251-7650-47bf-a0eb-c5ffc2c809e2",
   "metadata": {},
   "outputs": [],
   "source": []
  },
  {
   "cell_type": "code",
   "execution_count": null,
   "id": "623b22fe-c418-4b93-b2c1-f5aae104fe48",
   "metadata": {},
   "outputs": [],
   "source": []
  },
  {
   "cell_type": "code",
   "execution_count": null,
   "id": "27599b73-cd21-4e46-b83a-57bc524f4b0b",
   "metadata": {},
   "outputs": [],
   "source": []
  },
  {
   "cell_type": "code",
   "execution_count": null,
   "id": "685301ae-1d8c-4e19-9269-b28fa5cd206f",
   "metadata": {},
   "outputs": [],
   "source": []
  }
 ],
 "metadata": {
  "kernelspec": {
   "display_name": "Python 3 (ipykernel)",
   "language": "python",
   "name": "python3"
  },
  "language_info": {
   "codemirror_mode": {
    "name": "ipython",
    "version": 3
   },
   "file_extension": ".py",
   "mimetype": "text/x-python",
   "name": "python",
   "nbconvert_exporter": "python",
   "pygments_lexer": "ipython3",
   "version": "3.10.0"
  }
 },
 "nbformat": 4,
 "nbformat_minor": 5
}
